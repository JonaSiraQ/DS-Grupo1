{
  "nbformat": 4,
  "nbformat_minor": 0,
  "metadata": {
    "colab": {
      "name": "Grupo1_Parcial_Bimestre_1.ipynb",
      "provenance": [],
      "collapsed_sections": [],
      "include_colab_link": true
    },
    "kernelspec": {
      "name": "python3",
      "display_name": "Python 3"
    },
    "language_info": {
      "name": "python"
    }
  },
  "cells": [
    {
      "cell_type": "markdown",
      "metadata": {
        "id": "view-in-github",
        "colab_type": "text"
      },
      "source": [
        "<a href=\"https://colab.research.google.com/github/JonatanSiracusa/DS-Grupo1/blob/main/Grupo1_Parcial_Bimestre_1.ipynb\" target=\"_parent\"><img src=\"https://colab.research.google.com/assets/colab-badge.svg\" alt=\"Open In Colab\"/></a>"
      ]
    },
    {
      "cell_type": "markdown",
      "metadata": {
        "id": "0ZBHM9KbFmxq"
      },
      "source": [
        "# Ejercicio Tipo Parcial\n",
        "\n",
        "El ministerio de salud de la nación les solicita realizar un programa que les permita visualizar el estado de ciudadanos infectados con COVID-19 en todas sus variantes en un rango de fecha determinado y comparar esos resultados con los niveles de vacunación.\n",
        "A su vez, se les solicita que realicen una compración con otro(s) país(es). (Seleccionar como máximo 2 adicionales)\n",
        "\n",
        "Para ello, un analista le provee los siguientes archivos.\n",
        "\n",
        "[Vacunación Global](https://raw.githubusercontent.com/al34n1x/DataScience/master/100.Examen/2022/country_vaccinations.csv)\n",
        "\n",
        "[Casos COVID Global](https://raw.githubusercontent.com/al34n1x/DataScience/master/100.Examen/2022/owid-covid-data.csv)\n",
        "\n",
        "\n",
        "Consideraciones:\n",
        "\n",
        "* Rango de Fechas desde 01/01/2021 a 15/01/2021\n",
        "* Importar los archivos y trabajarlos como diccionarios o dataframes. El caracter delimitador de los archivos es el **';'**\n",
        "* Realizar al menos 4 charts que representen la información solicitada\n",
        "* Utilizar funciones\n",
        "* Generar un archivo que posea la siguiente estructura de datos dscriminado por el rango de fechas.\n",
        "```\n",
        "ID:{\n",
        "'país':value,\n",
        "'fecha':value,\n",
        "'nuevos_casos':value,\n",
        "'nuevas_muertes':value,\n",
        "'total_vacunados':value\n",
        "}\n",
        "```\n",
        "* Documentar cada paso con bloques de texto adicionalmente a notas en el código\n",
        "* Presentar por pantalla el total acumulado de infectados y de vacunados en el rango de fechas solicitado\n",
        "* Proveer una breve conclusión como parte del análisis \n",
        "\n",
        "\n",
        "\n"
      ]
    },
    {
      "cell_type": "markdown",
      "metadata": {
        "id": "1rYMsEfVFvPn"
      },
      "source": [
        "## TIPS"
      ]
    },
    {
      "cell_type": "code",
      "source": [
        "#from google.colab import drive\n",
        "#drive.mount('/content/drive')"
      ],
      "metadata": {
        "colab": {
          "base_uri": "https://localhost:8080/"
        },
        "id": "18crpkW8nm_n",
        "outputId": "51e31236-cd5a-4e6d-fdef-4f5bf1019ffd"
      },
      "execution_count": null,
      "outputs": [
        {
          "output_type": "stream",
          "name": "stdout",
          "text": [
            "Mounted at /content/drive\n"
          ]
        }
      ]
    },
    {
      "cell_type": "code",
      "metadata": {
        "id": "aTZkn_AvFld9",
        "colab": {
          "base_uri": "https://localhost:8080/",
          "height": 244
        },
        "outputId": "aaef61ab-7278-46ca-f706-e08381bfd063"
      },
      "source": [
        "import csv\n",
        "file = ('./sample_data/country_vaccinations.csv')\n",
        "covid_vaccines={}\n",
        "\n",
        "with open(file, mode='r') as csv_file:\n",
        "    csv_reader = csv.DictReader(csv_file,delimiter=';') #Delimitador ;\n",
        "    line_count = 0\n",
        "    for row in csv_reader:\n",
        "      print(row)"
      ],
      "execution_count": 1,
      "outputs": [
        {
          "output_type": "error",
          "ename": "FileNotFoundError",
          "evalue": "ignored",
          "traceback": [
            "\u001b[0;31m---------------------------------------------------------------------------\u001b[0m",
            "\u001b[0;31mFileNotFoundError\u001b[0m                         Traceback (most recent call last)",
            "\u001b[0;32m<ipython-input-1-77aaad482c3d>\u001b[0m in \u001b[0;36m<module>\u001b[0;34m()\u001b[0m\n\u001b[1;32m      3\u001b[0m \u001b[0mcovid_vaccines\u001b[0m\u001b[0;34m=\u001b[0m\u001b[0;34m{\u001b[0m\u001b[0;34m}\u001b[0m\u001b[0;34m\u001b[0m\u001b[0;34m\u001b[0m\u001b[0m\n\u001b[1;32m      4\u001b[0m \u001b[0;34m\u001b[0m\u001b[0m\n\u001b[0;32m----> 5\u001b[0;31m \u001b[0;32mwith\u001b[0m \u001b[0mopen\u001b[0m\u001b[0;34m(\u001b[0m\u001b[0mfile\u001b[0m\u001b[0;34m,\u001b[0m \u001b[0mmode\u001b[0m\u001b[0;34m=\u001b[0m\u001b[0;34m'r'\u001b[0m\u001b[0;34m)\u001b[0m \u001b[0;32mas\u001b[0m \u001b[0mcsv_file\u001b[0m\u001b[0;34m:\u001b[0m\u001b[0;34m\u001b[0m\u001b[0;34m\u001b[0m\u001b[0m\n\u001b[0m\u001b[1;32m      6\u001b[0m     \u001b[0mcsv_reader\u001b[0m \u001b[0;34m=\u001b[0m \u001b[0mcsv\u001b[0m\u001b[0;34m.\u001b[0m\u001b[0mDictReader\u001b[0m\u001b[0;34m(\u001b[0m\u001b[0mcsv_file\u001b[0m\u001b[0;34m,\u001b[0m\u001b[0mdelimiter\u001b[0m\u001b[0;34m=\u001b[0m\u001b[0;34m';'\u001b[0m\u001b[0;34m)\u001b[0m \u001b[0;31m#Delimitador ;\u001b[0m\u001b[0;34m\u001b[0m\u001b[0;34m\u001b[0m\u001b[0m\n\u001b[1;32m      7\u001b[0m     \u001b[0mline_count\u001b[0m \u001b[0;34m=\u001b[0m \u001b[0;36m0\u001b[0m\u001b[0;34m\u001b[0m\u001b[0;34m\u001b[0m\u001b[0m\n",
            "\u001b[0;31mFileNotFoundError\u001b[0m: [Errno 2] No such file or directory: './sample_data/country_vaccinations.csv'"
          ]
        }
      ]
    },
    {
      "cell_type": "code",
      "metadata": {
        "id": "D2p6WrXIFsHi"
      },
      "source": [
        "import csv\n",
        "file = ('./sample_data/owid-covid-data.csv')\n",
        "#file = ('https://github.com/al34n1x/DataScience/tree/master/100.Examen/2022/owid-covid-data.csv')\n",
        "covid_cases={}\n",
        "\n",
        "with open(file, mode='r') as csv_file:\n",
        "    csv_reader = csv.DictReader(csv_file,delimiter=';')\n",
        "    line_count = 0\n",
        "    for row in csv_reader:\n",
        "      print(row)"
      ],
      "execution_count": null,
      "outputs": []
    },
    {
      "cell_type": "code",
      "metadata": {
        "id": "bg6-mLepFtzy"
      },
      "source": [
        "var = '1.0'\n",
        "\n",
        "split = var.split('.')[0] # Dividir cadena de caracteres para eliminar los caracteres detras del .\n",
        "\n",
        "print(var)\n",
        "print(int(split))"
      ],
      "execution_count": null,
      "outputs": []
    },
    {
      "cell_type": "markdown",
      "source": [
        "---\n"
      ],
      "metadata": {
        "id": "3ti1yO9zlVpI"
      }
    },
    {
      "cell_type": "markdown",
      "source": [
        "## Carga de datos"
      ],
      "metadata": {
        "id": "aQneOoJ_krvJ"
      }
    },
    {
      "cell_type": "code",
      "source": [
        "from pandas.core.indexes.datetimes import date_range\n",
        "# Ingrese código aquí\n",
        "import pandas as pd\n",
        "\n",
        "vacunacion = pd.read_csv('https://raw.githubusercontent.com/al34n1x/DataScience/master/100.Examen/2022/country_vaccinations.csv'\n",
        "  , delimiter=';'\n",
        "  )\n",
        "#vacunacion.head()\n",
        "\n",
        "vacunacion = vacunacion.fillna ({\"daily_vaccinations\": 0})\n",
        "#print(vacunacion[vacunacion['iso_code']=='ALB'])\n",
        "\n",
        "vacunacion['date'] = pd.to_datetime(vacunacion['date'], dayfirst=True)\n",
        "#print(vacunacion)\n",
        "\n",
        "mask = (vacunacion['date'] >= '2021-01-01') & (vacunacion['date'] <= '2021-01-15')\n",
        "vacunacion_filt=vacunacion.loc[mask]\n",
        "\n",
        "#'ALB'\n",
        "#vacunacion_filt[vacunacion_filt['iso_code']=='BMU']\n",
        "\n",
        "#vacunacion_filt.to_csv('./sample_data/prueba_covid.csv')\n"
      ],
      "metadata": {
        "id": "_J96onT_lCw9"
      },
      "execution_count": 2,
      "outputs": []
    },
    {
      "cell_type": "code",
      "source": [
        "import pandas as pd\n",
        "covid_global = pd.read_csv('https://raw.githubusercontent.com/al34n1x/DataScience/master/100.Examen/2022/owid-covid-data.csv'\n",
        "  , delimiter=',')\n",
        "covid_global.head()\n",
        "\n",
        "#covid_global = covid_global.fillna ({\"\": 0})\n",
        "#print(vacunacion[vacunacion['iso_code']=='ALB'])\n",
        "\n",
        "covid_global['date'] = pd.to_datetime(covid_global['date'], dayfirst=True)\n",
        "#print(covid_global)\n",
        "\n",
        "mask = (covid_global['date'] >= '2021-01-01') & (covid_global['date'] <= '2021-01-15')\n",
        "covid_global_filt=covid_global.loc[mask]\n",
        "\n",
        "#'ALB'\n",
        "#vacunacion_filt[vacunacion_filt['iso_code']=='BMU']\n",
        "\n",
        "covid_global_col=pd.DataFrame(covid_global_filt, columns=['iso_code','continent','location','date','total_cases','new_cases','new_deaths','total_deaths'])\n",
        "\n",
        "covid_global_col\n",
        "\n",
        "#Seleccionamos los países a tratar\n",
        "\n",
        "#'ARG'\n",
        "#'CHN'\n",
        "#'USA'\n"
      ],
      "metadata": {
        "id": "kbKDkKduTTaT",
        "colab": {
          "base_uri": "https://localhost:8080/",
          "height": 423
        },
        "outputId": "0ff7344e-5c14-4bc3-d5b5-0a2890270906"
      },
      "execution_count": 8,
      "outputs": [
        {
          "output_type": "execute_result",
          "data": {
            "text/plain": [
              "       iso_code continent     location       date  total_cases  new_cases  \\\n",
              "312         AFG      Asia  Afghanistan 2021-01-01      52513.0      183.0   \n",
              "313         AFG      Asia  Afghanistan 2021-01-02      52586.0       73.0   \n",
              "314         AFG      Asia  Afghanistan 2021-01-03      52709.0      123.0   \n",
              "315         AFG      Asia  Afghanistan 2021-01-04      52909.0      200.0   \n",
              "316         AFG      Asia  Afghanistan 2021-01-05      53011.0      102.0   \n",
              "...         ...       ...          ...        ...          ...        ...   \n",
              "181709      ZWE    Africa     Zimbabwe 2021-01-11      22297.0      820.0   \n",
              "181710      ZWE    Africa     Zimbabwe 2021-01-12      23239.0      942.0   \n",
              "181711      ZWE    Africa     Zimbabwe 2021-01-13      24256.0     1017.0   \n",
              "181712      ZWE    Africa     Zimbabwe 2021-01-14      25368.0     1112.0   \n",
              "181713      ZWE    Africa     Zimbabwe 2021-01-15      26109.0      741.0   \n",
              "\n",
              "        new_deaths  total_deaths  \n",
              "312           12.0        2201.0  \n",
              "313           10.0        2211.0  \n",
              "314           10.0        2221.0  \n",
              "315            9.0        2230.0  \n",
              "316            7.0        2237.0  \n",
              "...            ...           ...  \n",
              "181709        21.0         528.0  \n",
              "181710        23.0         551.0  \n",
              "181711        38.0         589.0  \n",
              "181712        47.0         636.0  \n",
              "181713        30.0         666.0  \n",
              "\n",
              "[3407 rows x 8 columns]"
            ],
            "text/html": [
              "\n",
              "  <div id=\"df-78fc2b81-38c0-4e61-b6d2-3ba299fe7a08\">\n",
              "    <div class=\"colab-df-container\">\n",
              "      <div>\n",
              "<style scoped>\n",
              "    .dataframe tbody tr th:only-of-type {\n",
              "        vertical-align: middle;\n",
              "    }\n",
              "\n",
              "    .dataframe tbody tr th {\n",
              "        vertical-align: top;\n",
              "    }\n",
              "\n",
              "    .dataframe thead th {\n",
              "        text-align: right;\n",
              "    }\n",
              "</style>\n",
              "<table border=\"1\" class=\"dataframe\">\n",
              "  <thead>\n",
              "    <tr style=\"text-align: right;\">\n",
              "      <th></th>\n",
              "      <th>iso_code</th>\n",
              "      <th>continent</th>\n",
              "      <th>location</th>\n",
              "      <th>date</th>\n",
              "      <th>total_cases</th>\n",
              "      <th>new_cases</th>\n",
              "      <th>new_deaths</th>\n",
              "      <th>total_deaths</th>\n",
              "    </tr>\n",
              "  </thead>\n",
              "  <tbody>\n",
              "    <tr>\n",
              "      <th>312</th>\n",
              "      <td>AFG</td>\n",
              "      <td>Asia</td>\n",
              "      <td>Afghanistan</td>\n",
              "      <td>2021-01-01</td>\n",
              "      <td>52513.0</td>\n",
              "      <td>183.0</td>\n",
              "      <td>12.0</td>\n",
              "      <td>2201.0</td>\n",
              "    </tr>\n",
              "    <tr>\n",
              "      <th>313</th>\n",
              "      <td>AFG</td>\n",
              "      <td>Asia</td>\n",
              "      <td>Afghanistan</td>\n",
              "      <td>2021-01-02</td>\n",
              "      <td>52586.0</td>\n",
              "      <td>73.0</td>\n",
              "      <td>10.0</td>\n",
              "      <td>2211.0</td>\n",
              "    </tr>\n",
              "    <tr>\n",
              "      <th>314</th>\n",
              "      <td>AFG</td>\n",
              "      <td>Asia</td>\n",
              "      <td>Afghanistan</td>\n",
              "      <td>2021-01-03</td>\n",
              "      <td>52709.0</td>\n",
              "      <td>123.0</td>\n",
              "      <td>10.0</td>\n",
              "      <td>2221.0</td>\n",
              "    </tr>\n",
              "    <tr>\n",
              "      <th>315</th>\n",
              "      <td>AFG</td>\n",
              "      <td>Asia</td>\n",
              "      <td>Afghanistan</td>\n",
              "      <td>2021-01-04</td>\n",
              "      <td>52909.0</td>\n",
              "      <td>200.0</td>\n",
              "      <td>9.0</td>\n",
              "      <td>2230.0</td>\n",
              "    </tr>\n",
              "    <tr>\n",
              "      <th>316</th>\n",
              "      <td>AFG</td>\n",
              "      <td>Asia</td>\n",
              "      <td>Afghanistan</td>\n",
              "      <td>2021-01-05</td>\n",
              "      <td>53011.0</td>\n",
              "      <td>102.0</td>\n",
              "      <td>7.0</td>\n",
              "      <td>2237.0</td>\n",
              "    </tr>\n",
              "    <tr>\n",
              "      <th>...</th>\n",
              "      <td>...</td>\n",
              "      <td>...</td>\n",
              "      <td>...</td>\n",
              "      <td>...</td>\n",
              "      <td>...</td>\n",
              "      <td>...</td>\n",
              "      <td>...</td>\n",
              "      <td>...</td>\n",
              "    </tr>\n",
              "    <tr>\n",
              "      <th>181709</th>\n",
              "      <td>ZWE</td>\n",
              "      <td>Africa</td>\n",
              "      <td>Zimbabwe</td>\n",
              "      <td>2021-01-11</td>\n",
              "      <td>22297.0</td>\n",
              "      <td>820.0</td>\n",
              "      <td>21.0</td>\n",
              "      <td>528.0</td>\n",
              "    </tr>\n",
              "    <tr>\n",
              "      <th>181710</th>\n",
              "      <td>ZWE</td>\n",
              "      <td>Africa</td>\n",
              "      <td>Zimbabwe</td>\n",
              "      <td>2021-01-12</td>\n",
              "      <td>23239.0</td>\n",
              "      <td>942.0</td>\n",
              "      <td>23.0</td>\n",
              "      <td>551.0</td>\n",
              "    </tr>\n",
              "    <tr>\n",
              "      <th>181711</th>\n",
              "      <td>ZWE</td>\n",
              "      <td>Africa</td>\n",
              "      <td>Zimbabwe</td>\n",
              "      <td>2021-01-13</td>\n",
              "      <td>24256.0</td>\n",
              "      <td>1017.0</td>\n",
              "      <td>38.0</td>\n",
              "      <td>589.0</td>\n",
              "    </tr>\n",
              "    <tr>\n",
              "      <th>181712</th>\n",
              "      <td>ZWE</td>\n",
              "      <td>Africa</td>\n",
              "      <td>Zimbabwe</td>\n",
              "      <td>2021-01-14</td>\n",
              "      <td>25368.0</td>\n",
              "      <td>1112.0</td>\n",
              "      <td>47.0</td>\n",
              "      <td>636.0</td>\n",
              "    </tr>\n",
              "    <tr>\n",
              "      <th>181713</th>\n",
              "      <td>ZWE</td>\n",
              "      <td>Africa</td>\n",
              "      <td>Zimbabwe</td>\n",
              "      <td>2021-01-15</td>\n",
              "      <td>26109.0</td>\n",
              "      <td>741.0</td>\n",
              "      <td>30.0</td>\n",
              "      <td>666.0</td>\n",
              "    </tr>\n",
              "  </tbody>\n",
              "</table>\n",
              "<p>3407 rows × 8 columns</p>\n",
              "</div>\n",
              "      <button class=\"colab-df-convert\" onclick=\"convertToInteractive('df-78fc2b81-38c0-4e61-b6d2-3ba299fe7a08')\"\n",
              "              title=\"Convert this dataframe to an interactive table.\"\n",
              "              style=\"display:none;\">\n",
              "        \n",
              "  <svg xmlns=\"http://www.w3.org/2000/svg\" height=\"24px\"viewBox=\"0 0 24 24\"\n",
              "       width=\"24px\">\n",
              "    <path d=\"M0 0h24v24H0V0z\" fill=\"none\"/>\n",
              "    <path d=\"M18.56 5.44l.94 2.06.94-2.06 2.06-.94-2.06-.94-.94-2.06-.94 2.06-2.06.94zm-11 1L8.5 8.5l.94-2.06 2.06-.94-2.06-.94L8.5 2.5l-.94 2.06-2.06.94zm10 10l.94 2.06.94-2.06 2.06-.94-2.06-.94-.94-2.06-.94 2.06-2.06.94z\"/><path d=\"M17.41 7.96l-1.37-1.37c-.4-.4-.92-.59-1.43-.59-.52 0-1.04.2-1.43.59L10.3 9.45l-7.72 7.72c-.78.78-.78 2.05 0 2.83L4 21.41c.39.39.9.59 1.41.59.51 0 1.02-.2 1.41-.59l7.78-7.78 2.81-2.81c.8-.78.8-2.07 0-2.86zM5.41 20L4 18.59l7.72-7.72 1.47 1.35L5.41 20z\"/>\n",
              "  </svg>\n",
              "      </button>\n",
              "      \n",
              "  <style>\n",
              "    .colab-df-container {\n",
              "      display:flex;\n",
              "      flex-wrap:wrap;\n",
              "      gap: 12px;\n",
              "    }\n",
              "\n",
              "    .colab-df-convert {\n",
              "      background-color: #E8F0FE;\n",
              "      border: none;\n",
              "      border-radius: 50%;\n",
              "      cursor: pointer;\n",
              "      display: none;\n",
              "      fill: #1967D2;\n",
              "      height: 32px;\n",
              "      padding: 0 0 0 0;\n",
              "      width: 32px;\n",
              "    }\n",
              "\n",
              "    .colab-df-convert:hover {\n",
              "      background-color: #E2EBFA;\n",
              "      box-shadow: 0px 1px 2px rgba(60, 64, 67, 0.3), 0px 1px 3px 1px rgba(60, 64, 67, 0.15);\n",
              "      fill: #174EA6;\n",
              "    }\n",
              "\n",
              "    [theme=dark] .colab-df-convert {\n",
              "      background-color: #3B4455;\n",
              "      fill: #D2E3FC;\n",
              "    }\n",
              "\n",
              "    [theme=dark] .colab-df-convert:hover {\n",
              "      background-color: #434B5C;\n",
              "      box-shadow: 0px 1px 3px 1px rgba(0, 0, 0, 0.15);\n",
              "      filter: drop-shadow(0px 1px 2px rgba(0, 0, 0, 0.3));\n",
              "      fill: #FFFFFF;\n",
              "    }\n",
              "  </style>\n",
              "\n",
              "      <script>\n",
              "        const buttonEl =\n",
              "          document.querySelector('#df-78fc2b81-38c0-4e61-b6d2-3ba299fe7a08 button.colab-df-convert');\n",
              "        buttonEl.style.display =\n",
              "          google.colab.kernel.accessAllowed ? 'block' : 'none';\n",
              "\n",
              "        async function convertToInteractive(key) {\n",
              "          const element = document.querySelector('#df-78fc2b81-38c0-4e61-b6d2-3ba299fe7a08');\n",
              "          const dataTable =\n",
              "            await google.colab.kernel.invokeFunction('convertToInteractive',\n",
              "                                                     [key], {});\n",
              "          if (!dataTable) return;\n",
              "\n",
              "          const docLinkHtml = 'Like what you see? Visit the ' +\n",
              "            '<a target=\"_blank\" href=https://colab.research.google.com/notebooks/data_table.ipynb>data table notebook</a>'\n",
              "            + ' to learn more about interactive tables.';\n",
              "          element.innerHTML = '';\n",
              "          dataTable['output_type'] = 'display_data';\n",
              "          await google.colab.output.renderOutput(dataTable, element);\n",
              "          const docLink = document.createElement('div');\n",
              "          docLink.innerHTML = docLinkHtml;\n",
              "          element.appendChild(docLink);\n",
              "        }\n",
              "      </script>\n",
              "    </div>\n",
              "  </div>\n",
              "  "
            ]
          },
          "metadata": {},
          "execution_count": 8
        }
      ]
    },
    {
      "cell_type": "code",
      "source": [
        "outer_merged = pd.merge(covid_global_col, vacunacion_filt, how=\"outer\", on=[\"iso_code\", \"date\"])\n",
        "\n",
        "#print(outer_merged)\n",
        "covid_merge = outer_merged.fillna ({\"daily_vaccinations\": 0})\n",
        "\n",
        "#covid_merge\n",
        "#mask = (data['value2'] == 'A') & (data['value'] > 4)\n",
        "mask = (covid_merge['iso_code'] == 'ARG') | (covid_merge['iso_code'] == 'CHN') | (covid_merge['iso_code'] == 'USA')\n",
        "covid_merge_filt=covid_merge.loc[mask]\n",
        "\n",
        "covid_merge_filt\n",
        "\n",
        "'''\n",
        "\n",
        "ID:{\n",
        "'país':value,\n",
        "'fecha':value,\n",
        "'nuevos_casos':value,\n",
        "'nuevas_muertes':value,\n",
        "'total_vacunados':value\n",
        "}\n",
        "\n",
        "\n",
        "covid_merge.to_dict()\n",
        "\n",
        "\n",
        "covid_merge.to_csv('./sample_data/covid_merge.csv')\n",
        "#covid_merge\n",
        "#covid_global_col.add(vacunacion, fill_value=0)\n",
        "'''"
      ],
      "metadata": {
        "id": "Ic7kadfvofwU",
        "colab": {
          "base_uri": "https://localhost:8080/",
          "height": 54
        },
        "outputId": "a9a8c0ef-c97f-4163-fa28-74227fab9523"
      },
      "execution_count": 18,
      "outputs": [
        {
          "output_type": "execute_result",
          "data": {
            "text/plain": [
              "\"\\n\\nID:{\\n'país':value,\\n'fecha':value,\\n'nuevos_casos':value,\\n'nuevas_muertes':value,\\n'total_vacunados':value\\n}\\n\\n\\ncovid_merge.to_dict()\\n\\n\\ncovid_merge.to_csv('./sample_data/covid_merge.csv')\\n#covid_merge\\n#covid_global_col.add(vacunacion, fill_value=0)\\n\""
            ],
            "application/vnd.google.colaboratory.intrinsic+json": {
              "type": "string"
            }
          },
          "metadata": {},
          "execution_count": 18
        }
      ]
    },
    {
      "cell_type": "markdown",
      "source": [
        "Trabajo en la generación del archivo de salida con formato de Diccionario. (Jona)"
      ],
      "metadata": {
        "id": "dFhA7CZu3u_e"
      }
    },
    {
      "cell_type": "code",
      "source": [
        ""
      ],
      "metadata": {
        "id": "TovmtKIC3wDH"
      },
      "execution_count": null,
      "outputs": []
    },
    {
      "cell_type": "markdown",
      "source": [
        "Gráfico 1 – Comparación de infectados en países sudamericanos.\n",
        "\n",
        "Ver los totales de vacunados para el rango de fechas y sacar conclusiones de los nuevos contagios y las nuevas muertes.\n",
        "\n",
        "Gráfico 2 – Comparación Argentina vs Estados Unidos vs China.\n",
        "\n",
        "Ver total de contagios y total de vacunados dentro del rango de fechas comparando Argentina contra los países más fuertes del mundo.\n",
        "\n",
        "Gráfico 3 – Comparación de países en estaciones climáticas diferentes.\n",
        "\n",
        "Ver nuevos contagiados para el rango de fechas y sacar conclusiones de los nuevos contagios con la premisa de que en países donde están transitando el invierno, la gente es más propensa a contagiarse.\n",
        "\n",
        "Gráfico 4 – Comparación de países representativos por continente.\n",
        "\n",
        "Seleccionando un país representativo por continente, hacer una comparación de total de vacunados para poder sacar conclusiones del nivel socio-económico influye en la vacunación de la población.\n",
        "\n"
      ],
      "metadata": {
        "id": "Lbt5JTlwwZkE"
      }
    },
    {
      "cell_type": "markdown",
      "source": [
        "## Limpieza de datos"
      ],
      "metadata": {
        "id": "SzAIToQjktGr"
      }
    },
    {
      "cell_type": "code",
      "source": [
        "# Ingrese código aquí"
      ],
      "metadata": {
        "id": "wUV9xn9LlEIU"
      },
      "execution_count": null,
      "outputs": []
    },
    {
      "cell_type": "code",
      "source": [
        "# Ingrese código aquí"
      ],
      "metadata": {
        "id": "fbRtOmINlD5c"
      },
      "execution_count": null,
      "outputs": []
    },
    {
      "cell_type": "code",
      "source": [
        "# Ingrese código aquí"
      ],
      "metadata": {
        "id": "6z-nbh5TlDX9"
      },
      "execution_count": null,
      "outputs": []
    },
    {
      "cell_type": "markdown",
      "source": [
        "## Transformación de datos"
      ],
      "metadata": {
        "id": "2_BcGv-BkyAS"
      }
    },
    {
      "cell_type": "code",
      "source": [
        "# Ingrese código aquí"
      ],
      "metadata": {
        "id": "PUXmMsRtlFm4"
      },
      "execution_count": null,
      "outputs": []
    },
    {
      "cell_type": "code",
      "source": [
        "# Ingrese código aquí"
      ],
      "metadata": {
        "id": "l9zoyloQlFZL"
      },
      "execution_count": null,
      "outputs": []
    },
    {
      "cell_type": "code",
      "source": [
        "# Ingrese código aquí"
      ],
      "metadata": {
        "id": "vZmzCfbwlFKl"
      },
      "execution_count": null,
      "outputs": []
    },
    {
      "cell_type": "markdown",
      "source": [
        "## Análisis y Visualizaciones\n",
        "\n",
        "*Ingrese su análisis aquí*\n"
      ],
      "metadata": {
        "id": "7hb5S74tk1rr"
      }
    },
    {
      "cell_type": "code",
      "source": [
        "# Ingrese código aquí"
      ],
      "metadata": {
        "id": "JY1QPSUUlHDX"
      },
      "execution_count": null,
      "outputs": []
    },
    {
      "cell_type": "code",
      "source": [
        "# Ingrese código aquí"
      ],
      "metadata": {
        "id": "2SToxURjlG3Y"
      },
      "execution_count": null,
      "outputs": []
    },
    {
      "cell_type": "code",
      "source": [
        "# Ingrese código aquí"
      ],
      "metadata": {
        "id": "reVnqsCXlGpt"
      },
      "execution_count": null,
      "outputs": []
    },
    {
      "cell_type": "markdown",
      "source": [
        "## Conclusión\n",
        "\n",
        "*Ingrese conclusión aquí*"
      ],
      "metadata": {
        "id": "SDoG7Ol5k5JN"
      }
    },
    {
      "cell_type": "code",
      "source": [
        "# Ingrese código aquí"
      ],
      "metadata": {
        "id": "JS2X5GQnlIYb"
      },
      "execution_count": null,
      "outputs": []
    },
    {
      "cell_type": "markdown",
      "source": [
        "## Almacenamiento de resultados"
      ],
      "metadata": {
        "id": "N7_qJtlek90u"
      }
    },
    {
      "cell_type": "code",
      "source": [
        "# Ingrese código aquí"
      ],
      "metadata": {
        "id": "vEwQheo0lJJf"
      },
      "execution_count": null,
      "outputs": []
    }
  ]
}