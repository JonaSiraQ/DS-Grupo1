{
  "nbformat": 4,
  "nbformat_minor": 0,
  "metadata": {
    "colab": {
      "name": "Grupo1_Parcial_Bimestre_1_TodosJuntos_version_1.ipynb",
      "provenance": [],
      "collapsed_sections": [
        "1rYMsEfVFvPn"
      ],
      "include_colab_link": true
    },
    "kernelspec": {
      "name": "python3",
      "display_name": "Python 3"
    },
    "language_info": {
      "name": "python"
    }
  },
  "cells": [
    {
      "cell_type": "markdown",
      "metadata": {
        "id": "view-in-github",
        "colab_type": "text"
      },
      "source": [
        "<a href=\"https://colab.research.google.com/github/JonatanSiracusa/DS-Grupo1/blob/main/Grupo1_Parcial_Bimestre_1_TodosJuntos_version_1.ipynb\" target=\"_parent\"><img src=\"https://colab.research.google.com/assets/colab-badge.svg\" alt=\"Open In Colab\"/></a>"
      ]
    },
    {
      "cell_type": "markdown",
      "metadata": {
        "id": "0ZBHM9KbFmxq"
      },
      "source": [
        "# Ejercicio Tipo Parcial\n",
        "\n",
        "El ministerio de salud de la nación les solicita realizar un programa que les permita visualizar el estado de ciudadanos infectados con COVID-19 en todas sus variantes en un rango de fecha determinado y comparar esos resultados con los niveles de vacunación.\n",
        "A su vez, se les solicita que realicen una compración con otro(s) país(es). (Seleccionar como máximo 2 adicionales)\n",
        "\n",
        "Para ello, un analista le provee los siguientes archivos.\n",
        "\n",
        "[Vacunación Global](https://raw.githubusercontent.com/al34n1x/DataScience/master/100.Examen/2022/country_vaccinations.csv)\n",
        "\n",
        "[Casos COVID Global](https://raw.githubusercontent.com/al34n1x/DataScience/master/100.Examen/2022/owid-covid-data.csv)\n",
        "\n",
        "\n",
        "Consideraciones:\n",
        "\n",
        "* Rango de Fechas desde 01/01/2021 a 15/01/2021\n",
        "* Importar los archivos y trabajarlos como diccionarios o dataframes. El caracter delimitador de los archivos es el **';'**\n",
        "* Realizar al menos 4 charts que representen la información solicitada\n",
        "* Utilizar funciones\n",
        "* Generar un archivo que posea la siguiente estructura de datos dscriminado por el rango de fechas.\n",
        "```\n",
        "ID:{\n",
        "'país':value,\n",
        "'fecha':value,\n",
        "'nuevos_casos':value,\n",
        "'nuevas_muertes':value,\n",
        "'total_vacunados':value\n",
        "}\n",
        "```\n",
        "* Documentar cada paso con bloques de texto adicionalmente a notas en el código\n",
        "* Presentar por pantalla el total acumulado de infectados y de vacunados en el rango de fechas solicitado\n",
        "* Proveer una breve conclusión como parte del análisis \n",
        "\n",
        "\n",
        "\n"
      ]
    },
    {
      "cell_type": "markdown",
      "metadata": {
        "id": "1rYMsEfVFvPn"
      },
      "source": [
        "## TIPS"
      ]
    },
    {
      "cell_type": "code",
      "source": [
        "#from google.colab import drive\n",
        "#drive.mount('/content/drive')"
      ],
      "metadata": {
        "colab": {
          "base_uri": "https://localhost:8080/"
        },
        "id": "18crpkW8nm_n",
        "outputId": "51e31236-cd5a-4e6d-fdef-4f5bf1019ffd"
      },
      "execution_count": null,
      "outputs": [
        {
          "output_type": "stream",
          "name": "stdout",
          "text": [
            "Mounted at /content/drive\n"
          ]
        }
      ]
    },
    {
      "cell_type": "code",
      "metadata": {
        "id": "aTZkn_AvFld9"
      },
      "source": [
        "import csv\n",
        "file = ('./sample_data/country_vaccinations.csv')\n",
        "covid_vaccines={}\n",
        "\n",
        "with open(file, mode='r') as csv_file:\n",
        "    csv_reader = csv.DictReader(csv_file,delimiter=';') #Delimitador ;\n",
        "    line_count = 0\n",
        "    for row in csv_reader:\n",
        "      print(row)"
      ],
      "execution_count": null,
      "outputs": []
    },
    {
      "cell_type": "code",
      "metadata": {
        "id": "D2p6WrXIFsHi"
      },
      "source": [
        "import csv\n",
        "file = ('./sample_data/owid-covid-data.csv')\n",
        "#file = ('https://github.com/al34n1x/DataScience/tree/master/100.Examen/2022/owid-covid-data.csv')\n",
        "covid_cases={}\n",
        "\n",
        "with open(file, mode='r') as csv_file:\n",
        "    csv_reader = csv.DictReader(csv_file,delimiter=';')\n",
        "    line_count = 0\n",
        "    for row in csv_reader:\n",
        "      print(row)"
      ],
      "execution_count": null,
      "outputs": []
    },
    {
      "cell_type": "code",
      "metadata": {
        "id": "bg6-mLepFtzy"
      },
      "source": [
        "var = '1.0'\n",
        "\n",
        "split = var.split('.')[0] # Dividir cadena de caracteres para eliminar los caracteres detras del .\n",
        "\n",
        "print(var)\n",
        "print(int(split))"
      ],
      "execution_count": null,
      "outputs": []
    },
    {
      "cell_type": "markdown",
      "source": [
        "---\n"
      ],
      "metadata": {
        "id": "3ti1yO9zlVpI"
      }
    },
    {
      "cell_type": "markdown",
      "source": [
        "## Carga de datos"
      ],
      "metadata": {
        "id": "aQneOoJ_krvJ"
      }
    },
    {
      "cell_type": "code",
      "source": [
        "import pandas as pd\n",
        "\n",
        "#Obtenemos los datos del archivo de vacunacion\n",
        "vacunacion = pd.read_csv('https://raw.githubusercontent.com/al34n1x/DataScience/master/100.Examen/2022/country_vaccinations.csv'\n",
        "  , delimiter=';')\n",
        "\n",
        "#vacunacion = vacunacion.fillna ({\"daily_vaccinations\": 0})\n",
        "\n",
        "#Pasamos a date la columna de fechas, para luego poder filtrar\n",
        "vacunacion['date'] = pd.to_datetime(vacunacion['date'], dayfirst=True)\n",
        "\n",
        "#Filtramos los datos por las fechas solicitadas. Se agregan, a su vez, otros filtros.\n",
        "mask = (vacunacion['date'] >= '2021-01-01') & (vacunacion['date'] <= '2021-01-15')\n",
        "vacunacion_filt=vacunacion.loc[mask]\n",
        "\n",
        "mask2 = (vacunacion['date'] >= '2021-01-01') & (vacunacion['date'] <= '2021-01-15') & ((vacunacion['iso_code'] == 'ARG') | (vacunacion['iso_code'] == 'CHN') | (vacunacion['iso_code'] == 'USA'))\n",
        "vacunaciones_diarias = vacunacion.loc[mask2]\n"
      ],
      "metadata": {
        "id": "_J96onT_lCw9"
      },
      "execution_count": 11,
      "outputs": []
    },
    {
      "cell_type": "code",
      "source": [
        "#Obtenemos los datos del archivo de informacion global\n",
        "covid_global = pd.read_csv('https://raw.githubusercontent.com/al34n1x/DataScience/master/100.Examen/2022/owid-covid-data.csv'\n",
        "  , delimiter=',')\n",
        "\n",
        "\n",
        "#Pasar a date la columna de fechas, para luego poder filtrar\n",
        "covid_global['date'] = pd.to_datetime(covid_global['date'], dayfirst=True)\n",
        "\n",
        "\n",
        "#Filtramos los datos por las fechas solicitadas. Se agregan, a su vez, otros filtros.\n",
        "mask = (covid_global['date'] >= '2021-01-01') & (covid_global['date'] <= '2021-01-15')\n",
        "covid_global_filt=covid_global.loc[mask]\n",
        "\n",
        "mask2 = (covid_global['date'] >= '2021-01-01') & (covid_global['date'] <= '2021-01-15') & ((covid_global['iso_code'] == 'ARG') | (covid_global['iso_code'] == 'CHN') | (covid_global['iso_code'] == 'USA'))\n",
        "covid_globales = covid_global.loc[mask2]\n",
        "\n",
        "\n",
        "#Filtramos las columnas que nos pueden interesar para el archivo de datos globales\n",
        "covid_global_col=pd.DataFrame(covid_global_filt, columns=['iso_code','continent','location','date','total_cases','new_cases','new_deaths','total_deaths'])\n",
        "\n",
        "covid_datos_globales = pd.DataFrame(covid_globales, columns=['iso_code','continent','location','date','total_cases','new_cases','new_deaths','total_deaths'])\n"
      ],
      "metadata": {
        "id": "kbKDkKduTTaT"
      },
      "execution_count": 12,
      "outputs": []
    },
    {
      "cell_type": "markdown",
      "source": [
        "## Limpieza de datos"
      ],
      "metadata": {
        "id": "SzAIToQjktGr"
      }
    },
    {
      "cell_type": "code",
      "source": [
        "# Ingrese código aquí"
      ],
      "metadata": {
        "id": "wUV9xn9LlEIU"
      },
      "execution_count": null,
      "outputs": []
    },
    {
      "cell_type": "code",
      "source": [
        "# Ingrese código aquí"
      ],
      "metadata": {
        "id": "fbRtOmINlD5c"
      },
      "execution_count": null,
      "outputs": []
    },
    {
      "cell_type": "code",
      "source": [
        "# Ingrese código aquí"
      ],
      "metadata": {
        "id": "6z-nbh5TlDX9"
      },
      "execution_count": null,
      "outputs": []
    },
    {
      "cell_type": "markdown",
      "source": [
        "## Transformación de datos"
      ],
      "metadata": {
        "id": "2_BcGv-BkyAS"
      }
    },
    {
      "cell_type": "markdown",
      "source": [
        "Combinamos los DataFrames anteriormente generados."
      ],
      "metadata": {
        "id": "K0V3wH9oR84O"
      }
    },
    {
      "cell_type": "code",
      "source": [
        "#Unimos la ionformación de ambos origenes de datos, por país y fecha\n",
        "outer_merged = pd.merge(covid_global_col, vacunacion_filt, how=\"outer\", on=[\"iso_code\", \"date\"])\n",
        "\n",
        "dfs_merged = pd.merge(covid_datos_globales, vacunaciones_diarias, how=\"outer\", on=[\"iso_code\", \"date\"])\n",
        "df_datos = dfs_merged\n",
        "\n",
        "\n",
        "#Completamos los NaN de vacunacion con ceros\n",
        "covid_merge = outer_merged.fillna ({\"daily_vaccinations\": 0})\n",
        "\n",
        "\n",
        "#Filtramos por los países que vamos a trabajar\n",
        "mask = (covid_merge['iso_code'] == 'ARG') | (covid_merge['iso_code'] == 'CHN') | (covid_merge['iso_code'] == 'USA')\n",
        "covid_merge_filt=covid_merge.loc[mask]"
      ],
      "metadata": {
        "id": "PUXmMsRtlFm4"
      },
      "execution_count": 13,
      "outputs": []
    },
    {
      "cell_type": "markdown",
      "source": [
        "Recorremos el DataFrame para crear una cadena de caracteres similar a un archivo de formato JSON, con la información solicitada."
      ],
      "metadata": {
        "id": "bUFjncobSOjX"
      }
    },
    {
      "cell_type": "code",
      "source": [
        "info_covid_json = \"[\"\n",
        "\n",
        "for i in df_datos.index:\n",
        "  pais = df_datos['location'][i]\n",
        "  fecha = str(df_datos['date'][i])[0:10]\n",
        "  nuevos_casos = str(df_datos['new_cases'][i]).split(\".\")[0]\n",
        "  nuevas_muertes = str(df_datos['new_deaths'][i]).split(\".\")[0]\n",
        "  total_vacunados = str(df_datos['daily_vaccinations'][i]).split(\".\")[0]\n",
        "\n",
        "  info_covid_json = info_covid_json + str(i) + \": {\"\n",
        "  info_covid_json = info_covid_json + \"'pais': \" + pais + \", \"\n",
        "  info_covid_json = info_covid_json + \"'fecha': \" + fecha + \", \"\n",
        "  info_covid_json = info_covid_json + \"'nuevos_casos': \" + nuevos_casos + \", \"\n",
        "  info_covid_json = info_covid_json + \"'nuevas_muertes': \" + nuevas_muertes + \", \" \n",
        "  info_covid_json = info_covid_json + \"'total_vacunados': \" + total_vacunados\n",
        "  info_covid_json = info_covid_json + \"}, \"\n",
        "\n",
        "\n",
        "info_covid_json = info_covid_json[0:-2]\n",
        "info_covid_json = info_covid_json + \"]\""
      ],
      "metadata": {
        "id": "l9zoyloQlFZL"
      },
      "execution_count": 14,
      "outputs": []
    },
    {
      "cell_type": "code",
      "source": [
        "# Ingrese código aquí"
      ],
      "metadata": {
        "id": "vZmzCfbwlFKl"
      },
      "execution_count": null,
      "outputs": []
    },
    {
      "cell_type": "markdown",
      "source": [
        "## Análisis y Visualizaciones\n",
        "\n",
        "*Ingrese su análisis aquí*\n"
      ],
      "metadata": {
        "id": "7hb5S74tk1rr"
      }
    },
    {
      "cell_type": "code",
      "source": [
        "#Crear funcion que plotea\n",
        "def Chart1(datos):\n",
        "  import matplotlib.pyplot as plt\n",
        "  import pandas as pd \n",
        "  import numpy as np\n",
        "\n",
        "  #Trabajar sobre una copia\n",
        "  datos=covid_merge_filt.copy()\n",
        "\n",
        "  #Obtener Países\n",
        "  paises=pd.Series(datos['iso_code'].drop_duplicates())\n",
        "  \n",
        "  #Por cada país genero la información\n",
        "  for p in paises:\n",
        "\n",
        "    #fig= plt.figure(constrained_layout = True,facecolor='#EBEBEB', edgecolor='black')\n",
        "    fig= plt.figure(figsize=(5,3),facecolor='#EBEBEB', edgecolor='black')\n",
        "\n",
        "    #gs = fig.add_gridspec(4, 7)\n",
        "    ax = fig.add_axes([0,0,1,1],facecolor='lightsteelblue') \n",
        "\n",
        "    #Obtener datos de ese país\n",
        "    pais=datos[datos['iso_code']==p]\n",
        "    #Obtener las fechas\n",
        "    fechas=pd.to_datetime(pais['date'].drop_duplicates()).astype(str).tolist()\n",
        "    #Obtener los vacunados\n",
        "    vacunados=pd.Series(pais['daily_vaccinations'])\n",
        "    #Obtener los infectados\n",
        "    infectados=pd.Series(pais['new_cases'])\n",
        "    #Obtener la cantidad de bins(fechas)\n",
        "    cantFechas=np.arange(len(fechas))\n",
        "  \n",
        "    #Crear barra de vacunados\n",
        "    ax.bar( x=cantFechas-0.2\n",
        "          ,height=vacunados\n",
        "          ,width=0.4           \n",
        "          ,edgecolor=\"black\"  \n",
        "          ,linewidth=0.8\n",
        "          ,color='#36648B'          \n",
        "          )\n",
        "    #Crear barra de infectados\n",
        "    ax.bar( cantFechas+0.2\n",
        "        ,height=infectados  \n",
        "        ,width=0.4         \n",
        "        ,edgecolor=\"black\"  \n",
        "        ,linewidth=0.8\n",
        "        ,color='#36998B'          \n",
        "          )\n",
        "    #Crear leyenda\n",
        "    ax.legend(['Vacunados', 'Infectados'], loc='upper right')\n",
        "\n",
        "    #Aplicar parametros a los ticks de los ejes\n",
        "    plt.yticks(fontsize=16)\n",
        "    plt.xticks(ticks=cantFechas, labels=fechas, rotation=90, fontsize=12)\n",
        "\n",
        "    #Aplicar etiquetas\n",
        "    plt.ylabel('Cantidad', fontdict = {'fontsize':20, 'color':'tab:blue'})  \n",
        "    plt.xlabel('Fecha', fontdict = {'fontsize':20, 'color':'tab:blue'})\n",
        "    plt.title( p + \" Covid19\", loc = \"center\", fontdict = {'Weight':'bold', 'fontsize':20, 'color':'tab:blue'})\n",
        "   \n",
        "    #Dibujar\n",
        "    plt.show()"
      ],
      "metadata": {
        "id": "JY1QPSUUlHDX"
      },
      "execution_count": 15,
      "outputs": []
    },
    {
      "cell_type": "code",
      "source": [
        "#Porbar funcion que plotea\n",
        "#covid_merge_filt\n",
        "#Chart1(covid_merge_filt)"
      ],
      "metadata": {
        "id": "2SToxURjlG3Y"
      },
      "execution_count": 16,
      "outputs": []
    },
    {
      "cell_type": "code",
      "source": [
        "# Ingrese código aquí"
      ],
      "metadata": {
        "id": "reVnqsCXlGpt"
      },
      "execution_count": null,
      "outputs": []
    },
    {
      "cell_type": "markdown",
      "source": [
        "Gráfico 1 – Comparación de infectados en países sudamericanos.\n",
        "\n",
        "Ver los totales de vacunados para el rango de fechas y sacar conclusiones de los nuevos contagios y las nuevas muertes.\n",
        "\n",
        "Gráfico 2 – Comparación Argentina vs Estados Unidos vs China.\n",
        "\n",
        "Ver total de contagios y total de vacunados dentro del rango de fechas comparando Argentina contra los países más fuertes del mundo.\n",
        "\n",
        "Gráfico 3 – Comparación de países en estaciones climáticas diferentes.\n",
        "\n",
        "Ver nuevos contagiados para el rango de fechas y sacar conclusiones de los nuevos contagios con la premisa de que en países donde están transitando el invierno, la gente es más propensa a contagiarse.\n",
        "\n",
        "Gráfico 4 – Comparación de países representativos por continente.\n",
        "\n",
        "Seleccionando un país representativo por continente, hacer una comparación de total de vacunados para poder sacar conclusiones del nivel socio-económico influye en la vacunación de la población."
      ],
      "metadata": {
        "id": "MvuPqkVPRmjd"
      }
    },
    {
      "cell_type": "markdown",
      "source": [
        "Imprimimos por pantalla el total acumulado de infectados y de vacunados en el rango de fechas solicitado."
      ],
      "metadata": {
        "id": "U81D1mGlSdcG"
      }
    },
    {
      "cell_type": "code",
      "source": [
        "total_acum_infectados = 0\n",
        "total_acum_vacunados = 0\n",
        "\n",
        "for i in df_datos.index:\n",
        "  nuevos_casos = (df_datos['new_cases'][i])\n",
        "  total_vacunados = (df_datos['daily_vaccinations'][i])\n",
        "\n",
        "  total_acum_infectados += nuevos_casos\n",
        "  total_acum_vacunados += total_vacunados\n",
        "\n",
        "print(\"Información solicitados: \\n\")\n",
        "print(\"Total acumulado de infectados = \", total_acum_infectados) \n",
        "print(\"Total acumulado de vacunados = \", total_acum_vacunados)"
      ],
      "metadata": {
        "colab": {
          "base_uri": "https://localhost:8080/"
        },
        "id": "LfPYN-OFSaXn",
        "outputId": "8edc57f6-5673-4341-83bb-e51fdfd8c4ff"
      },
      "execution_count": 17,
      "outputs": [
        {
          "output_type": "stream",
          "name": "stdout",
          "text": [
            "Información solicitados: \n",
            "\n",
            "Total acumulado de infectados =  3693493.0\n",
            "Total acumulado de vacunados =  13521439.0\n"
          ]
        }
      ]
    },
    {
      "cell_type": "markdown",
      "source": [
        "## Conclusión\n",
        "\n",
        "En base a los datos analizados, llegamos a las siguientes conclusiones.\n",
        "\n",
        "Deducimos que la cantidad de infectados por día y los vacunados por día, en Argentina, no presentan una correlación, ni una relación causa-efecto directa.\n",
        "\n",
        "En relación a los datos provenientes de China lo más notable es que no existen valores de \"nuevas muertes\" durante una fracción de tiempo, lo cual posibilita inferir que los datos muy probablemente no reflejen la realidad. Este dato con valores inexistentes imposibilita realizar algún tipo de análisis de correlación entre la cantidad de vacunados por día y la cantidad de nuevas muertes.\n",
        "\n",
        "Comparando la cantidad de vacunaciones diarias de Estados Unidos y China, es claramente observable que Estados Unidos tuvo un ratio de vacunación diaria per cápita mucho mayor al de China.\n"
      ],
      "metadata": {
        "id": "SDoG7Ol5k5JN"
      }
    },
    {
      "cell_type": "code",
      "source": [
        "# Ingrese código aquí"
      ],
      "metadata": {
        "id": "JS2X5GQnlIYb"
      },
      "execution_count": null,
      "outputs": []
    },
    {
      "cell_type": "markdown",
      "source": [
        "## Almacenamiento de resultados"
      ],
      "metadata": {
        "id": "N7_qJtlek90u"
      }
    },
    {
      "cell_type": "markdown",
      "source": [
        "Creamos el archivo JSON solicitado conteniendo el diccionario generado."
      ],
      "metadata": {
        "id": "7Ll25yEKSnwl"
      }
    },
    {
      "cell_type": "code",
      "source": [
        "import json\n",
        "\n",
        "filename = './sample_data/info_covid_20210101-20210115.json'\n",
        "\n",
        "with open (filename, 'w') as archivo:\n",
        "  json.dump(info_covid_json, archivo)\n",
        "\n",
        "print('\\nSe creo un archivo en formato JSON con la información solicitada.\\n\\nEl nombre del archivo es \"info_covid_20210101-20210115.json\" y se encuentra en \"./sample_data\" del presente notebook.') "
      ],
      "metadata": {
        "id": "vEwQheo0lJJf",
        "colab": {
          "base_uri": "https://localhost:8080/"
        },
        "outputId": "fa011c46-1704-4471-ef55-a4fdd504ec09"
      },
      "execution_count": 18,
      "outputs": [
        {
          "output_type": "stream",
          "name": "stdout",
          "text": [
            "\n",
            "Se creo un archivo en formato JSON con la información solicitada.\n",
            "\n",
            "El nombre del archivo es \"info_covid_20210101-20210115.json\" y se encuentra en \"./sample_data\" del presente notebook.\n"
          ]
        }
      ]
    }
  ]
}