{
  "nbformat": 4,
  "nbformat_minor": 0,
  "metadata": {
    "colab": {
      "name": "Grupo1_Parcial_Bimestre_1_Jona_version_1.ipynb",
      "provenance": [],
      "include_colab_link": true
    },
    "kernelspec": {
      "name": "python3",
      "display_name": "Python 3"
    },
    "language_info": {
      "name": "python"
    }
  },
  "cells": [
    {
      "cell_type": "markdown",
      "metadata": {
        "id": "view-in-github",
        "colab_type": "text"
      },
      "source": [
        "<a href=\"https://colab.research.google.com/github/JonatanSiracusa/DS-Grupo1/blob/main/Grupo1_Parcial_Bimestre_1_Jona_version_1.ipynb\" target=\"_parent\"><img src=\"https://colab.research.google.com/assets/colab-badge.svg\" alt=\"Open In Colab\"/></a>"
      ]
    },
    {
      "cell_type": "markdown",
      "metadata": {
        "id": "0ZBHM9KbFmxq"
      },
      "source": [
        "# Ejercicio Tipo Parcial\n",
        "\n",
        "El ministerio de salud de la nación les solicita realizar un programa que les permita visualizar el estado de ciudadanos infectados con COVID-19 en todas sus variantes en un rango de fecha determinado y comparar esos resultados con los niveles de vacunación.\n",
        "A su vez, se les solicita que realicen una compración con otro(s) país(es). (Seleccionar como máximo 2 adicionales)\n",
        "\n",
        "Para ello, un analista le provee los siguientes archivos.\n",
        "\n",
        "[Vacunación Global](https://raw.githubusercontent.com/al34n1x/DataScience/master/100.Examen/2022/country_vaccinations.csv)\n",
        "\n",
        "[Casos COVID Global](https://raw.githubusercontent.com/al34n1x/DataScience/master/100.Examen/2022/owid-covid-data.csv)\n",
        "\n",
        "\n",
        "Consideraciones:\n",
        "\n",
        "* Rango de Fechas desde 01/01/2021 a 15/01/2021\n",
        "* Importar los archivos y trabajarlos como diccionarios o dataframes. El caracter delimitador de los archivos es el **';'**\n",
        "* Realizar al menos 4 charts que representen la información solicitada\n",
        "* Utilizar funciones\n",
        "* Generar un archivo que posea la siguiente estructura de datos dscriminado por el rango de fechas.\n",
        "```\n",
        "ID:{\n",
        "'país':value,\n",
        "'fecha':value,\n",
        "'nuevos_casos':value,\n",
        "'nuevas_muertes':value,\n",
        "'total_vacunados':value\n",
        "}\n",
        "```\n",
        "* Documentar cada paso con bloques de texto adicionalmente a notas en el código\n",
        "* Presentar por pantalla el total acumulado de infectados y de vacunados en el rango de fechas solicitado\n",
        "* Proveer una breve conclusión como parte del análisis \n",
        "\n",
        "\n",
        "\n"
      ]
    },
    {
      "cell_type": "markdown",
      "source": [
        "## Carga de datos"
      ],
      "metadata": {
        "id": "aQneOoJ_krvJ"
      }
    },
    {
      "cell_type": "code",
      "source": [
        "from pandas.core.indexes.datetimes import date_range\n",
        "# Ingrese código aquí\n",
        "import pandas as pd\n",
        "\n",
        "vacunacion = pd.read_csv('https://raw.githubusercontent.com/al34n1x/DataScience/master/100.Examen/2022/country_vaccinations.csv'\n",
        "  , delimiter=';'\n",
        "  )\n",
        "#vacunacion.head()\n",
        "\n",
        "vacunacion = vacunacion.fillna ({\"daily_vaccinations\": 0})\n",
        "#print(vacunacion[vacunacion['iso_code']=='ALB'])\n",
        "\n",
        "vacunacion['date'] = pd.to_datetime(vacunacion['date'], dayfirst=True)\n",
        "#print(vacunacion)\n",
        "\n",
        "mask = (vacunacion['date'] >= '2021-01-01') & (vacunacion['date'] <= '2021-01-15') & ((vacunacion['iso_code'] == 'ARG') | (vacunacion['iso_code'] == 'CHN') | (vacunacion['iso_code'] == 'USA'))\n",
        "vacunacion_filt=vacunacion.loc[mask]\n",
        "\n",
        "\n",
        "vacunacion_filt.to_csv('./sample_data/prueba_covid.csv')\n",
        "#vacunacion_filt\n"
      ],
      "metadata": {
        "id": "_J96onT_lCw9"
      },
      "execution_count": 111,
      "outputs": []
    },
    {
      "cell_type": "code",
      "source": [
        "import pandas as pd\n",
        "covid_global = pd.read_csv('https://raw.githubusercontent.com/al34n1x/DataScience/master/100.Examen/2022/owid-covid-data.csv'\n",
        "  , delimiter=',')\n",
        "# covid_global.head()\n",
        "\n",
        "#covid_global = covid_global.fillna ({\"\": 0})\n",
        "#print(vacunacion[vacunacion['iso_code']=='ALB'])\n",
        "\n",
        "covid_global['date'] = pd.to_datetime(covid_global['date'], dayfirst=True)\n",
        "#print(covid_global)\n",
        "\n",
        "#mask = (covid_merge['iso_code'] == 'ARG') | (covid_merge['iso_code'] == 'CHN') | (covid_merge['iso_code'] == 'USA')\n",
        "mask = (covid_global['date'] >= '2021-01-01') & (covid_global['date'] <= '2021-01-15') & ((covid_global['iso_code'] == 'ARG') | (covid_global['iso_code'] == 'CHN') | (covid_global['iso_code'] == 'USA'))\n",
        "covid_global_filt=covid_global.loc[mask]\n",
        "\n",
        "\n",
        "covid_global_col=pd.DataFrame(covid_global_filt, columns=['iso_code','continent','location','date','total_cases','new_cases','new_deaths','total_deaths'])\n",
        "\n",
        "#covid_global_col\n"
      ],
      "metadata": {
        "id": "kbKDkKduTTaT"
      },
      "execution_count": 112,
      "outputs": []
    },
    {
      "cell_type": "markdown",
      "source": [
        "## Limpieza de datos"
      ],
      "metadata": {
        "id": "SzAIToQjktGr"
      }
    },
    {
      "cell_type": "code",
      "source": [
        "# Ingrese código aquí"
      ],
      "metadata": {
        "id": "wUV9xn9LlEIU"
      },
      "execution_count": null,
      "outputs": []
    },
    {
      "cell_type": "code",
      "source": [
        "# Ingrese código aquí"
      ],
      "metadata": {
        "id": "fbRtOmINlD5c"
      },
      "execution_count": null,
      "outputs": []
    },
    {
      "cell_type": "code",
      "source": [
        "# Ingrese código aquí"
      ],
      "metadata": {
        "id": "6z-nbh5TlDX9"
      },
      "execution_count": null,
      "outputs": []
    },
    {
      "cell_type": "markdown",
      "source": [
        "## Transformación de datos"
      ],
      "metadata": {
        "id": "2_BcGv-BkyAS"
      }
    },
    {
      "cell_type": "code",
      "source": [
        "# Ingrese código aquí"
      ],
      "metadata": {
        "id": "PUXmMsRtlFm4"
      },
      "execution_count": null,
      "outputs": []
    },
    {
      "cell_type": "markdown",
      "source": [
        "Combinamos los 2 DataFrame anteriormente generados."
      ],
      "metadata": {
        "id": "I1w0i3qFHP9L"
      }
    },
    {
      "cell_type": "code",
      "source": [
        "outer_merged = pd.merge(covid_global_col, vacunacion_filt, how=\"outer\", on=[\"iso_code\", \"date\"])\n",
        "#print(outer_merged)\n",
        "#outer_merged\n",
        "\n",
        "df_datos = outer_merged\n",
        "#df_datos"
      ],
      "metadata": {
        "id": "l9zoyloQlFZL"
      },
      "execution_count": 113,
      "outputs": []
    },
    {
      "cell_type": "markdown",
      "source": [
        "Recorremos el DataFrame para crear una cadena de caracteres similar a un archivo de formato JSON, con la información solicitada."
      ],
      "metadata": {
        "id": "xPzQJJ4THBXk"
      }
    },
    {
      "cell_type": "code",
      "source": [
        "info_covid_json = \"[\"\n",
        "\n",
        "for i in df_datos.index:\n",
        "  pais = df_datos['location'][i]\n",
        "  fecha = str(df_datos['date'][i])[0:10]\n",
        "  nuevos_casos = str(df_datos['new_cases'][i]).split(\".\")[0]\n",
        "  nuevas_muertes = str(df_datos['new_deaths'][i]).split(\".\")[0]\n",
        "  total_vacunados = str(df_datos['daily_vaccinations'][i]).split(\".\")[0]\n",
        "\n",
        "  info_covid_json = info_covid_json + str(i) + \": {\"\n",
        "  info_covid_json = info_covid_json + \"'pais': \" + pais + \", \"\n",
        "  info_covid_json = info_covid_json + \"'fecha': \" + fecha + \", \"\n",
        "  info_covid_json = info_covid_json + \"'nuevos_casos': \" + nuevos_casos + \", \"\n",
        "  info_covid_json = info_covid_json + \"'nuevas_muertes': \" + nuevas_muertes + \", \" \n",
        "  info_covid_json = info_covid_json + \"'total_vacunados': \" + total_vacunados\n",
        "  info_covid_json = info_covid_json + \"}, \"\n",
        "\n",
        "\n",
        "info_covid_json = info_covid_json[0:-2]\n",
        "info_covid_json = info_covid_json + \"]\"\n",
        "\n",
        "#info_covid_json"
      ],
      "metadata": {
        "id": "vZmzCfbwlFKl"
      },
      "execution_count": 114,
      "outputs": []
    },
    {
      "cell_type": "markdown",
      "source": [
        "## Análisis y Visualizaciones\n",
        "\n",
        "*Ingrese su análisis aquí*\n"
      ],
      "metadata": {
        "id": "7hb5S74tk1rr"
      }
    },
    {
      "cell_type": "code",
      "source": [
        "# Ingrese código aquí"
      ],
      "metadata": {
        "id": "JY1QPSUUlHDX"
      },
      "execution_count": null,
      "outputs": []
    },
    {
      "cell_type": "code",
      "source": [
        "# Ingrese código aquí"
      ],
      "metadata": {
        "id": "2SToxURjlG3Y"
      },
      "execution_count": null,
      "outputs": []
    },
    {
      "cell_type": "markdown",
      "source": [
        "Imprimimos por pantalla el total acumulado de infectados y de vacunados en el rango de fechas solicitado."
      ],
      "metadata": {
        "id": "ylKHyVePGcMU"
      }
    },
    {
      "cell_type": "code",
      "source": [
        "total_acum_infectados = 0\n",
        "total_acum_vacunados = 0\n",
        "\n",
        "for i in df_datos.index:\n",
        "  nuevos_casos = (df_datos['new_cases'][i])\n",
        "  total_vacunados = (df_datos['daily_vaccinations'][i])\n",
        "\n",
        "  total_acum_infectados += nuevos_casos\n",
        "  total_acum_vacunados += total_vacunados\n",
        "\n",
        "print(\"Información solicitados: \\n\")\n",
        "print(\"Total acumulado de infectados = \", total_acum_infectados) \n",
        "print(\"Total acumulado de vacunados = \", total_acum_vacunados)"
      ],
      "metadata": {
        "id": "reVnqsCXlGpt",
        "colab": {
          "base_uri": "https://localhost:8080/"
        },
        "outputId": "2118b95e-e2b9-4597-d081-e9d8f5d07249"
      },
      "execution_count": 115,
      "outputs": [
        {
          "output_type": "stream",
          "name": "stdout",
          "text": [
            "Información solicitados: \n",
            "\n",
            "Total acumulado de infectados =  3693493.0\n",
            "Total acumulado de vacunados =  13521439.0\n"
          ]
        }
      ]
    },
    {
      "cell_type": "markdown",
      "source": [
        "## Conclusión\n",
        "\n",
        "*Ingrese conclusión aquí*"
      ],
      "metadata": {
        "id": "SDoG7Ol5k5JN"
      }
    },
    {
      "cell_type": "code",
      "source": [
        "# Ingrese código aquí"
      ],
      "metadata": {
        "id": "JS2X5GQnlIYb"
      },
      "execution_count": null,
      "outputs": []
    },
    {
      "cell_type": "markdown",
      "source": [
        "## Almacenamiento de resultados"
      ],
      "metadata": {
        "id": "N7_qJtlek90u"
      }
    },
    {
      "cell_type": "markdown",
      "source": [
        "Creamos el archivo JSON solicitado conteniendo el diccionario generado."
      ],
      "metadata": {
        "id": "0KE5A82VGrEP"
      }
    },
    {
      "cell_type": "code",
      "source": [
        "import json\n",
        "\n",
        "filename = './sample_data/info_covid_20210101-20210115.json'\n",
        "\n",
        "with open (filename, 'w') as archivo:\n",
        "  json.dump(info_covid_json, archivo)\n",
        "\n",
        "print('\\nSe creo un archivo en formato JSON con la información solicitada.\\n\\nEl nombre del archivo es \"info_covid_20210101-20210115.json\" y se encuentra en \"./sample_data\" del presente notebook.')"
      ],
      "metadata": {
        "id": "vEwQheo0lJJf",
        "colab": {
          "base_uri": "https://localhost:8080/"
        },
        "outputId": "74e74d09-4190-4b3d-d3c9-48ee3956604c"
      },
      "execution_count": 116,
      "outputs": [
        {
          "output_type": "stream",
          "name": "stdout",
          "text": [
            "\n",
            "Se creo un archivo en formato JSON con la información solicitada.\n",
            "\n",
            "El nombre del archivo es \"info_covid_20210101-20210115.json\" y se encuentra en \"./sample_data\" del presente notebook.\n"
          ]
        }
      ]
    }
  ]
}